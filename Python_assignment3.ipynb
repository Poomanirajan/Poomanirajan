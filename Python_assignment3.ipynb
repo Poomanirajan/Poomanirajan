{
  "nbformat": 4,
  "nbformat_minor": 0,
  "metadata": {
    "colab": {
      "name": "Python assignment3.ipynb",
      "provenance": [],
      "authorship_tag": "ABX9TyOiFf4pOE7JrVqo5ppDOEQ4",
      "include_colab_link": true
    },
    "kernelspec": {
      "name": "python3",
      "display_name": "Python 3"
    },
    "language_info": {
      "name": "python"
    }
  },
  "cells": [
    {
      "cell_type": "markdown",
      "metadata": {
        "id": "view-in-github",
        "colab_type": "text"
      },
      "source": [
        "<a href=\"https://colab.research.google.com/github/Poomanirajan/Poomanirajan/blob/main/Python_assignment3.ipynb\" target=\"_parent\"><img src=\"https://colab.research.google.com/assets/colab-badge.svg\" alt=\"Open In Colab\"/></a>"
      ]
    },
    {
      "cell_type": "markdown",
      "source": [
        "1.1 Write a Python Program to implement your own myreduce() function which works exactly\n",
        "like Python's built-in function reduce()"
      ],
      "metadata": {
        "id": "UnLpaybQPZap"
      }
    },
    {
      "cell_type": "code",
      "execution_count": 1,
      "metadata": {
        "colab": {
          "base_uri": "https://localhost:8080/"
        },
        "id": "sHrAS5FGIimn",
        "outputId": "f71901ea-57e8-446d-d3be-fe0508aba28d"
      },
      "outputs": [
        {
          "output_type": "stream",
          "name": "stdout",
          "text": [
            "100\n"
          ]
        }
      ],
      "source": [
        "def myreduce(add,list_1):\n",
        "    return a\n",
        "def add(a,b):\n",
        "    return a+b\n",
        "list_1=[10,15,20,25,30]\n",
        "a=list_1[0]\n",
        "for i in range(1,len(list_1)):\n",
        "    b=list_1[i]\n",
        "    a=add(a,b)\n",
        "print(myreduce(add,list_1))"
      ]
    },
    {
      "cell_type": "markdown",
      "source": [
        "1.2 Write a Python program to implement your own myfilter() function which works exactly\n",
        "like Python's built-in function filter()"
      ],
      "metadata": {
        "id": "MqvymUAyPmWr"
      }
    },
    {
      "cell_type": "code",
      "source": [
        "def myfilter(is_odd,list_2):\n",
        "    return is_odd(a)\n",
        "list_2=[2,3,4,5,6,7,8,9,10]\n",
        "list_3=[]\n",
        "def is_odd(a):\n",
        "    for i in list_2:\n",
        "        if i%2!=0:\n",
        "            list_3.append(i)\n",
        "    print(list_3)\n",
        "myfilter(is_odd,list_2)"
      ],
      "metadata": {
        "colab": {
          "base_uri": "https://localhost:8080/"
        },
        "id": "9ztXfTCgQLpp",
        "outputId": "79d72af4-f713-4fd0-9cd6-cba226ac106f"
      },
      "execution_count": 4,
      "outputs": [
        {
          "output_type": "stream",
          "name": "stdout",
          "text": [
            "[3, 5, 7, 9]\n"
          ]
        }
      ]
    },
    {
      "cell_type": "markdown",
      "source": [
        "Implement List comprehensions to produce the following lists.\n",
        "\n",
        "Write List comprehensions to produce the following Lists\n",
        "\n",
        "['A', 'C', 'A', 'D', 'G', 'I', ’L’, ‘ D’]\n",
        "\n",
        "['x', 'xx', 'xxx', 'xxxx', 'y', 'yy', 'yyy', 'yyyy', 'z', 'zz', 'zzz', 'zzzz']\n",
        "\n",
        "['x', 'y', 'z', 'xx', 'yy', 'zz', 'xxx', 'yyy', 'zzz', 'xxxx', 'yyyy', 'zzzz']\n",
        "\n",
        "[[2], [3], [4], [3], [4], [5], [4], [5], [6]]\n",
        "[[2, 3, 4, 5], [3, 4, 5, 6],\n",
        "\n",
        "[4, 5, 6, 7], [5, 6, 7, 8]]\n",
        "\n",
        "[(1, 1), (2, 1), (3, 1), (1, 2), (2, 2), (3, 2), (1, 3), (2, 3), (3, 3)]"
      ],
      "metadata": {
        "id": "4tvbCtjWQfxk"
      }
    },
    {
      "cell_type": "code",
      "source": [
        "word = \"ACADGILD\"\n",
        "alphabet_list = [ alphabet for alphabet in word ]\n",
        "print (str(alphabet_list))\n",
        "\n",
        "input_list = ['x','y','z']\n",
        "result = [ item*num for item in input_list for num in range(1,5)  ]\n",
        "print(str(result))\n",
        "\n",
        "input_list = ['x','y','z']\n",
        "result = [ item*num for num in range(1,5) for item in input_list  ]\n",
        "print(str(result))\n",
        "\n",
        "input_list = [2,3,4]\n",
        "result = [ [item+num] for item in input_list for num in range(0,3)]\n",
        "print(str(result))\n",
        "\n",
        "input_list = [2,3,4,5]\n",
        "result = [ [item+num for item in input_list] for num in range(0,4)  ]\n",
        "print(str(result))\n",
        "\n",
        "input_list=[1,2,3]\n",
        "result = [ (b,a) for a in input_list for b in input_list]\n",
        "print(str(result))"
      ],
      "metadata": {
        "colab": {
          "base_uri": "https://localhost:8080/"
        },
        "id": "kh1buoEaQg5C",
        "outputId": "13366e79-6f17-40db-c60b-8c6d4161fd7e"
      },
      "execution_count": 8,
      "outputs": [
        {
          "output_type": "stream",
          "name": "stdout",
          "text": [
            "['A', 'C', 'A', 'D', 'G', 'I', 'L', 'D']\n",
            "['x', 'xx', 'xxx', 'xxxx', 'y', 'yy', 'yyy', 'yyyy', 'z', 'zz', 'zzz', 'zzzz']\n",
            "['x', 'y', 'z', 'xx', 'yy', 'zz', 'xxx', 'yyy', 'zzz', 'xxxx', 'yyyy', 'zzzz']\n",
            "[[2], [3], [4], [3], [4], [5], [4], [5], [6]]\n",
            "[[2, 3, 4, 5], [3, 4, 5, 6], [4, 5, 6, 7], [5, 6, 7, 8]]\n",
            "[(1, 1), (2, 1), (3, 1), (1, 2), (2, 2), (3, 2), (1, 3), (2, 3), (3, 3)]\n"
          ]
        }
      ]
    }
  ]
}